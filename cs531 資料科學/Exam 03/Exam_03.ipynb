{
  "nbformat": 4,
  "nbformat_minor": 0,
  "metadata": {
    "colab": {
      "name": "Exam 03",
      "version": "0.3.2",
      "provenance": [],
      "collapsed_sections": []
    },
    "kernelspec": {
      "name": "python3",
      "display_name": "Python 3"
    }
  },
  "cells": [
    {
      "cell_type": "markdown",
      "metadata": {
        "id": "ATK7wBLzaiDv",
        "colab_type": "text"
      },
      "source": [
        "## 第一題\n",
        "> https://plot.ly/scikit-learn/plot-mini-batch-kmeans/"
      ]
    },
    {
      "cell_type": "code",
      "metadata": {
        "id": "ggevljnOagIA",
        "colab_type": "code",
        "colab": {}
      },
      "source": [
        "# import plotly.plotly as py\n",
        "# 上面的是線上版需要API key\n",
        "import plotly as py\n",
        "import plotly.graph_objs as go\n",
        "from plotly import tools\n",
        "\n",
        "import time\n",
        "import numpy as np\n",
        "\n",
        "from sklearn.cluster import MiniBatchKMeans, KMeans\n",
        "from sklearn.metrics.pairwise import pairwise_distances_argmin\n",
        "from sklearn.datasets.samples_generator import make_blobs"
      ],
      "execution_count": 0,
      "outputs": []
    },
    {
      "cell_type": "code",
      "metadata": {
        "id": "pgrPAvKndFH-",
        "colab_type": "code",
        "colab": {}
      },
      "source": [
        "#  產生資料\n",
        "np.random.seed(0)\n",
        "\n",
        "batch_size = 45\n",
        "# 給定三個類別的中心\n",
        "centers = [[1, 1], [-1, -1], [1, -1]]\n",
        "n_clusters = 3\n",
        "X, labels_true = make_blobs(n_samples=2000, centers=centers, cluster_std=0.7)"
      ],
      "execution_count": 0,
      "outputs": []
    },
    {
      "cell_type": "code",
      "metadata": {
        "id": "ucKHmV1zcJKJ",
        "colab_type": "code",
        "colab": {}
      },
      "source": [
        "# Kmeans 模型參數設定\n",
        "k_means = KMeans(init='k-means++', n_clusters=3, n_init=10)\n",
        "t0 = time.time()\n",
        "k_means.fit(X)\n",
        "t_batch = time.time() - t0\n",
        "\n",
        "# MiniBatchKMeans 模型參數設定\n",
        "mbk = MiniBatchKMeans(init='k-means++', n_clusters=3, batch_size=batch_size,\n",
        "                      n_init=10, max_no_improvement=10, verbose=0)\n",
        "t0 = time.time()\n",
        "mbk.fit(X)\n",
        "t_mini_batch = time.time() - t0"
      ],
      "execution_count": 0,
      "outputs": []
    },
    {
      "cell_type": "code",
      "metadata": {
        "id": "eUuw4-M0edp3",
        "colab_type": "code",
        "colab": {}
      },
      "source": [
        "# plot設定\n",
        "colors = ['#4EACC5', '#FF9C34', '#4E9A06']\n",
        "\n",
        "k_means_cluster_centers = np.sort(k_means.cluster_centers_, axis=0)\n",
        "mbk_means_cluster_centers = np.sort(mbk.cluster_centers_, axis=0)\n",
        "k_means_labels = pairwise_distances_argmin(X, k_means_cluster_centers)\n",
        "mbk_means_labels = pairwise_distances_argmin(X, mbk_means_cluster_centers)\n",
        "order = pairwise_distances_argmin(k_means_cluster_centers,\n",
        "                                  mbk_means_cluster_centers)\n",
        "# 設定圖標\n",
        "fig = tools.make_subplots(rows=1, cols=3,\n",
        "                          print_grid=False,\n",
        "                          subplot_titles=('KMeans<br>train time: %.2fs\\ninertia: %f' %\n",
        "                                          (t_mini_batch, mbk.inertia_),\n",
        "                                          'MiniBatchKmeans<br>train time: %.2fs\\ninertia: %f' %\n",
        "                                          (t_mini_batch, mbk.inertia_), \n",
        "                                          'Difference'))"
      ],
      "execution_count": 0,
      "outputs": []
    },
    {
      "cell_type": "code",
      "metadata": {
        "id": "TMEzc6JseX8g",
        "colab_type": "code",
        "outputId": "4bf70382-d261-4815-8294-ac33d7571682",
        "colab": {
          "base_uri": "https://localhost:8080/",
          "height": 67
        }
      },
      "source": [
        "# 做kmeans圖\n",
        "for k, col in zip(range(n_clusters), colors):\n",
        "    my_members = k_means_labels == k\n",
        "    cluster_center = k_means_cluster_centers[k]\n",
        "    kmeans1 = go.Scatter(x=X[my_members, 0], y=X[my_members, 1],\n",
        "                         showlegend=False,\n",
        "                         mode='markers', marker=dict(color=col, size=4))\n",
        "    kmeans2 = go.Scatter(x=[cluster_center[0]], y=[cluster_center[1]],\n",
        "                         showlegend=False,\n",
        "                         mode='markers', marker=dict(color=col, size=14,\n",
        "                                                    line=dict(color='black',\n",
        "                                                              width=1)))\n",
        "    fig.append_trace(kmeans1, 1, 1)\n",
        "    fig.append_trace(kmeans2, 1, 1)\n",
        " \n",
        " # 設定axis 1也就是第一張小圖\n",
        "fig['layout']['xaxis1'].update(showticklabels=False, ticks='',\n",
        "                               zeroline=False, showgrid=False)\n",
        "fig['layout']['yaxis1'].update(showticklabels=False, ticks='',\n",
        "                               zeroline=False, showgrid=False)"
      ],
      "execution_count": 0,
      "outputs": [
        {
          "output_type": "execute_result",
          "data": {
            "text/plain": [
              "layout.YAxis({\n",
              "    'anchor': 'x', 'domain': [0.0, 1.0], 'showgrid': False, 'showticklabels': False, 'ticks': '', 'zeroline': False\n",
              "})"
            ]
          },
          "metadata": {
            "tags": []
          },
          "execution_count": 22
        }
      ]
    },
    {
      "cell_type": "code",
      "metadata": {
        "id": "460F2HNKeYE2",
        "colab_type": "code",
        "outputId": "4e837508-b511-4084-83ab-cd431bd01c3f",
        "colab": {
          "base_uri": "https://localhost:8080/",
          "height": 67
        }
      },
      "source": [
        "# 做MiniBatchKMeans圖\n",
        "for k, col in zip(range(n_clusters), colors):\n",
        "    my_members = mbk_means_labels == order[k]\n",
        "    cluster_center = mbk_means_cluster_centers[order[k]]\n",
        "    minibatchkmeans1 = go.Scatter(x=X[my_members, 0], y=X[my_members, 1],\n",
        "                                 showlegend=False,\n",
        "                                 mode='markers', marker=dict(color=col, size=4))\n",
        "    minibatchkmeans2 = go.Scatter(x=[cluster_center[0]], y=[cluster_center[1]],\n",
        "                                 showlegend=False,\n",
        "                                 mode='markers', marker=dict(color=col, size=14,\n",
        "                                                            line=dict(color='black',\n",
        "                                                                      width=1)))\n",
        "    fig.append_trace(minibatchkmeans1, 1, 2)\n",
        "    fig.append_trace(minibatchkmeans2, 1, 2)\n",
        "\n",
        "fig['layout']['xaxis2'].update(showticklabels=False, ticks='',\n",
        "                               zeroline=False, showgrid=False)\n",
        "fig['layout']['yaxis2'].update(showticklabels=False, ticks='',\n",
        "                               zeroline=False, showgrid=False)"
      ],
      "execution_count": 0,
      "outputs": [
        {
          "output_type": "execute_result",
          "data": {
            "text/plain": [
              "layout.YAxis({\n",
              "    'anchor': 'x2', 'domain': [0.0, 1.0], 'showgrid': False, 'showticklabels': False, 'ticks': '', 'zeroline': False\n",
              "})"
            ]
          },
          "metadata": {
            "tags": []
          },
          "execution_count": 23
        }
      ]
    },
    {
      "cell_type": "code",
      "metadata": {
        "id": "mEIM6ZSheYLG",
        "colab_type": "code",
        "outputId": "6f1be32a-6a2f-4878-ff41-fe9cba936bd7",
        "colab": {
          "base_uri": "https://localhost:8080/",
          "height": 67
        }
      },
      "source": [
        "# 做比較圖\n",
        "different = (mbk_means_labels == 4)\n",
        "\n",
        "for k in range(n_clusters):\n",
        "    different += ((k_means_labels == k) != (mbk_means_labels == order[k]))\n",
        "\n",
        "identic = np.logical_not(different)\n",
        "difference1 = go.Scatter(x=X[identic, 0], y=X[identic, 1],\n",
        "                         showlegend=False,\n",
        "                         mode='markers', marker=dict(color='#bbbbbb', size=4))\n",
        "        \n",
        "difference2 = go.Scatter(x=X[different, 0], y=X[different, 1], \n",
        "                         showlegend=False,\n",
        "                         mode='markers', marker=dict(color='magenta', size=4))\n",
        "\n",
        "fig.append_trace(difference1, 1, 3)\n",
        "fig.append_trace(difference2, 1, 3)\n",
        "\n",
        "fig['layout']['xaxis3'].update(showticklabels=False, ticks='',\n",
        "                               zeroline=False, showgrid=False)\n",
        "fig['layout']['yaxis3'].update(showticklabels=False, ticks='',\n",
        "                               zeroline=False, showgrid=False)"
      ],
      "execution_count": 0,
      "outputs": [
        {
          "output_type": "execute_result",
          "data": {
            "text/plain": [
              "layout.YAxis({\n",
              "    'anchor': 'x3', 'domain': [0.0, 1.0], 'showgrid': False, 'showticklabels': False, 'ticks': '', 'zeroline': False\n",
              "})"
            ]
          },
          "metadata": {
            "tags": []
          },
          "execution_count": 24
        }
      ]
    },
    {
      "cell_type": "code",
      "metadata": {
        "id": "pXjfX8iUetSI",
        "colab_type": "code",
        "outputId": "d4a78b58-d606-435e-e428-fdfd3b574380",
        "colab": {
          "base_uri": "https://localhost:8080/",
          "height": 101
        }
      },
      "source": [
        "# 一次一起顯示圖\n",
        "# py.iplot(fig)\n",
        "# 存到本機端\n",
        "py.offline.plot( fig, filename='d3-cloropleth-map' )"
      ],
      "execution_count": 0,
      "outputs": [
        {
          "output_type": "stream",
          "text": [
            "/usr/local/lib/python3.6/dist-packages/plotly/offline/offline.py:635: UserWarning:\n",
            "\n",
            "Your filename `d3-cloropleth-map` didn't end with .html. Adding .html to the end of your file.\n",
            "\n"
          ],
          "name": "stderr"
        },
        {
          "output_type": "execute_result",
          "data": {
            "text/plain": [
              "'file:///content/d3-cloropleth-map.html'"
            ]
          },
          "metadata": {
            "tags": []
          },
          "execution_count": 25
        }
      ]
    },
    {
      "cell_type": "markdown",
      "metadata": {
        "id": "PBALC0iFbw8B",
        "colab_type": "text"
      },
      "source": [
        "## 第二題\n",
        "> https://pythonprogramminglanguage.com/kmeans-elbow-method/\n",
        "\n",
        "> https://blog.cambridgespark.com/how-to-determine-the-optimal-number-of-clusters-for-k-means-clustering-14f27070048f"
      ]
    },
    {
      "cell_type": "code",
      "metadata": {
        "id": "EaTzol8MXkxx",
        "colab_type": "code",
        "colab": {}
      },
      "source": [
        "from sklearn import metrics\n",
        "from scipy.spatial.distance import cdist\n",
        "import numpy as np\n",
        "import matplotlib.pyplot as plt\n",
        "from sklearn.preprocessing import MinMaxScaler\n",
        "import pandas as pd\n",
        "DF = pd.read_csv('Wholesale customers data.csv')\n",
        "\n",
        "# 類別型資料\n",
        "categorical_features = ['Channel', 'Region']\n",
        "# 數值型資料\n",
        "# continuous_features = ['Fresh', 'Milk', 'Grocery', 'Frozen', 'Detergents_Paper', 'Delicassen']\n",
        "\n",
        "data = DF.copy()\n",
        "# 做one hot encoding\n",
        "for col in categorical_features:\n",
        "    dummies = pd.get_dummies(data[col], prefix=col)\n",
        "    data = pd.concat([data, dummies], axis=1)\n",
        "    data.drop(col, axis=1, inplace=True)\n",
        "    \n",
        "# 做normailization\n",
        "minMax = MinMaxScaler()\n",
        "minMax.fit(data)\n",
        "X = minMax.transform(data)\n",
        "\n",
        "distortions = []\n",
        "K = range(1,15)\n",
        "for k in K:\n",
        "    kmeanModel = KMeans(n_clusters=k).fit(X)\n",
        "    kmeanModel = kmeanModel.fit(X)\n",
        "    distortions.append(kmeanModel.inertia_)\n",
        "   \n",
        "    # 方法二\n",
        "#     distortions.append(sum(np.min(cdist(X, kmeanModel.cluster_centers_, 'euclidean'), axis=1)) / X.shape[0])"
      ],
      "execution_count": 0,
      "outputs": []
    },
    {
      "cell_type": "code",
      "metadata": {
        "id": "5vaiSuIGZ0DX",
        "colab_type": "code",
        "outputId": "0fe68556-7b36-41ba-9e84-d78aaba5277e",
        "colab": {
          "base_uri": "https://localhost:8080/",
          "height": 295
        }
      },
      "source": [
        "plt.plot(K, distortions, 'bx-')\n",
        "plt.xlabel('k')\n",
        "plt.ylabel('Distortion')\n",
        "# K=5是elbow point\n",
        "plt.axvline(x=5, label = 'elbow point')\n",
        "plt.title('The Elbow Method showing the optimal k')\n",
        "plt.show()"
      ],
      "execution_count": 0,
      "outputs": [
        {
          "output_type": "display_data",
          "data": {
            "image/png": "[encoded data removed]",
            "text/plain": [
              "<Figure size 432x288 with 1 Axes>"
            ]
          },
          "metadata": {
            "tags": []
          }
        }
      ]
    },
    {
      "cell_type": "code",
      "metadata": {
        "id": "n9lKYPW0g2bP",
        "colab_type": "code",
        "outputId": "54806bf5-1ba7-4246-835e-02ba6bb4a5ca",
        "colab": {
          "base_uri": "https://localhost:8080/",
          "height": 252
        }
      },
      "source": [
        "distortions"
      ],
      "execution_count": 0,
      "outputs": [
        {
          "output_type": "execute_result",
          "data": {
            "text/plain": [
              "[411.82878995921095,\n",
              " 213.39898477020844,\n",
              " 117.07252399254907,\n",
              " 73.63235109910806,\n",
              " 37.922437718162826,\n",
              " 19.418928179725288,\n",
              " 15.67916418107215,\n",
              " 13.129100808295878,\n",
              " 11.733181190386384,\n",
              " 10.685173127085228,\n",
              " 9.90769994117695,\n",
              " 8.926663411681483,\n",
              " 8.039458598024195,\n",
              " 7.652212259935403]"
            ]
          },
          "metadata": {
            "tags": []
          },
          "execution_count": 15
        }
      ]
    }
  ]
}