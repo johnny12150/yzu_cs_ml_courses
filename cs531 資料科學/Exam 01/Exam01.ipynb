{
  "nbformat": 4,
  "nbformat_minor": 0,
  "metadata": {
    "colab": {
      "name": "Exam01.ipynb",
      "version": "0.3.2",
      "provenance": [],
      "collapsed_sections": []
    },
    "kernelspec": {
      "name": "python3",
      "display_name": "Python 3"
    }
  },
  "cells": [
    {
      "cell_type": "markdown",
      "metadata": {
        "id": "yKuVpd_TMHLM",
        "colab_type": "text"
      },
      "source": [
        "## 第一題"
      ]
    },
    {
      "cell_type": "code",
      "metadata": {
        "id": "KwmRWg-0JWRU",
        "colab_type": "code",
        "colab": {
          "base_uri": "https://localhost:8080/",
          "height": 121
        },
        "outputId": "69d851ae-c96d-4472-9bf2-5ba29dcdf01e"
      },
      "source": [
        "from sklearn.linear_model import Lasso\n",
        "from sklearn.linear_model import Ridge\n",
        "import pandas as pd\n",
        "from sklearn.metrics import r2_score\n",
        "from sklearn.datasets import load_boston\n",
        "from sklearn.model_selection import train_test_split\n",
        "\n",
        "alphas = range(0, 101)\n",
        "\n",
        "# 分別儲存 R square\n",
        "r_squares_lasso = []\n",
        "r_squares_ridge = []\n",
        "\n",
        "# 讀取dataset\n",
        "boston = load_boston()\n",
        "# feature\n",
        "x = boston.data\n",
        "# label/ target value\n",
        "y = boston.target\n",
        "\n",
        "# 切割測試集與訓練集, 典型的37比\n",
        "x_train, x_test, y_train, y_test = train_test_split(x, y, test_size=0.3, random_state=42)\n",
        "\n",
        "# 從0跑到100\n",
        "for alpha in alphas:\n",
        "  # 建立模型時代入alpha值\n",
        "  lasso = Lasso(alpha=alpha)\n",
        "  # 訓練模型\n",
        "  lasso.fit(x_train, y_train)\n",
        "  # 預測\n",
        "  y_pred = lasso.predict(x_test)\n",
        "  # 計算loss\n",
        "  score = r2_score(y_test, y_pred)\n",
        "  r_squares_lasso.append(score)\n",
        "  \n",
        "  # 換ridge模型再做一次\n",
        "  ridge = Ridge(alpha=alpha)\n",
        "  ridge.fit(x_train, y_train)\n",
        "  y_pred = ridge.predict(x_test)\n",
        "  score = r2_score(y_test, y_pred)\n",
        "  r_squares_ridge.append(score)"
      ],
      "execution_count": 28,
      "outputs": [
        {
          "output_type": "stream",
          "text": [
            "/usr/local/lib/python3.6/dist-packages/ipykernel_launcher.py:29: UserWarning: With alpha=0, this algorithm does not converge well. You are advised to use the LinearRegression estimator\n",
            "/usr/local/lib/python3.6/dist-packages/sklearn/linear_model/coordinate_descent.py:478: UserWarning: Coordinate descent with no regularization may lead to unexpected results and is discouraged.\n",
            "  positive)\n",
            "/usr/local/lib/python3.6/dist-packages/sklearn/linear_model/coordinate_descent.py:492: ConvergenceWarning: Objective did not converge. You might want to increase the number of iterations. Fitting data with very small alpha may cause precision problems.\n",
            "  ConvergenceWarning)\n"
          ],
          "name": "stderr"
        }
      ]
    },
    {
      "cell_type": "markdown",
      "metadata": {
        "id": "wQKRFKXOXCkC",
        "colab_type": "text"
      },
      "source": [
        "### 作圖"
      ]
    },
    {
      "cell_type": "code",
      "metadata": {
        "id": "7nB46uGrM0eZ",
        "colab_type": "code",
        "colab": {
          "base_uri": "https://localhost:8080/",
          "height": 241
        },
        "outputId": "1d6abd65-91f1-4d17-d2c6-fbb1c9c3c49a"
      },
      "source": [
        "# 建立圖像物件\n",
        "plt.figure(figsize=(10,3))\n",
        "\n",
        "# 第一張圖\n",
        "plt.subplot(1,2,1)\n",
        "plt.plot(alphas, r_squares_lasso)\n",
        "plt.title('Lasso R-square')\n",
        "# x軸是alpha, y軸是r_square\n",
        "plt.xlabel('alpha')\n",
        "plt.ylabel('R-square')\n",
        "\n",
        "# 第二張圖\n",
        "plt.subplot(1,2,2)\n",
        "plt.plot(alphas, r_squares_ridge)\n",
        "plt.title('Ridge R-square')\n",
        "# x軸是alpha, y軸是r_square\n",
        "plt.xlabel('alpha')\n",
        "plt.ylabel('R-square')\n",
        "plt.show()"
      ],
      "execution_count": 29,
      "outputs": [
        {
          "output_type": "display_data",
          "data": {
            "image/png": "[encoded data removed]",
            "text/plain": [
              "<Figure size 720x216 with 2 Axes>"
            ]
          },
          "metadata": {
            "tags": []
          }
        }
      ]
    },
    {
      "cell_type": "markdown",
      "metadata": {
        "id": "4lDkk9KnMNj9",
        "colab_type": "text"
      },
      "source": [
        "## 第二題"
      ]
    },
    {
      "cell_type": "code",
      "metadata": {
        "id": "gZaFaU9rMPU5",
        "colab_type": "code",
        "colab": {
          "base_uri": "https://localhost:8080/",
          "height": 34
        },
        "outputId": "0f83936d-e334-4ef2-b50e-490b3edf2e45"
      },
      "source": [
        "from sklearn.linear_model import ElasticNet\n",
        "\n",
        "hybrid = ElasticNet(l1_ratio=0.7)\n",
        "hybrid.fit(x_train, y_train)\n",
        "y_pred = hybrid.predict(x_test)\n",
        "r2_score(y_test, y_pred)"
      ],
      "execution_count": 30,
      "outputs": [
        {
          "output_type": "execute_result",
          "data": {
            "text/plain": [
              "0.6575227404082377"
            ]
          },
          "metadata": {
            "tags": []
          },
          "execution_count": 30
        }
      ]
    }
  ]
}