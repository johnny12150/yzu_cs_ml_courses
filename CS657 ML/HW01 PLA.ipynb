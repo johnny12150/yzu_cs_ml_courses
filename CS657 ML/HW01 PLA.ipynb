{
 "cells": [
  {
   "cell_type": "markdown",
   "metadata": {},
   "source": [
    "# HW01 PLA\n",
    "> 1041621 蘇建文\n",
    "\n",
    "## The roadmap of code\n",
    "![](https://raw.githubusercontent.com/johnny12150/DSS_P2P/f3eabbf965fea515e87094703e00d9c34b3bac6b/notebook/img/Slide10.jpg)"
   ]
  },
  {
   "cell_type": "markdown",
   "metadata": {},
   "source": [
    "### 01. Dataset\n",
    "> 資料來源: https://www.kaggle.com/c/titanic/data\n",
    "\n",
    "檢視資料"
   ]
  },
  {
   "cell_type": "code",
   "execution_count": 1,
   "metadata": {},
   "outputs": [
    {
     "data": {
      "text/html": [
       "<div>\n",
       "<style scoped>\n",
       "    .dataframe tbody tr th:only-of-type {\n",
       "        vertical-align: middle;\n",
       "    }\n",
       "\n",
       "    .dataframe tbody tr th {\n",
       "        vertical-align: top;\n",
       "    }\n",
       "\n",
       "    .dataframe thead th {\n",
       "        text-align: right;\n",
       "    }\n",
       "</style>\n",
       "<table border=\"1\" class=\"dataframe\">\n",
       "  <thead>\n",
       "    <tr style=\"text-align: right;\">\n",
       "      <th></th>\n",
       "      <th>PassengerId</th>\n",
       "      <th>Survived</th>\n",
       "      <th>Pclass</th>\n",
       "      <th>Name</th>\n",
       "      <th>Sex</th>\n",
       "      <th>Age</th>\n",
       "      <th>SibSp</th>\n",
       "      <th>Parch</th>\n",
       "      <th>Ticket</th>\n",
       "      <th>Fare</th>\n",
       "      <th>Cabin</th>\n",
       "      <th>Embarked</th>\n",
       "    </tr>\n",
       "  </thead>\n",
       "  <tbody>\n",
       "    <tr>\n",
       "      <th>0</th>\n",
       "      <td>1</td>\n",
       "      <td>0</td>\n",
       "      <td>3</td>\n",
       "      <td>Braund, Mr. Owen Harris</td>\n",
       "      <td>male</td>\n",
       "      <td>22.0</td>\n",
       "      <td>1</td>\n",
       "      <td>0</td>\n",
       "      <td>A/5 21171</td>\n",
       "      <td>7.2500</td>\n",
       "      <td>NaN</td>\n",
       "      <td>S</td>\n",
       "    </tr>\n",
       "    <tr>\n",
       "      <th>1</th>\n",
       "      <td>2</td>\n",
       "      <td>1</td>\n",
       "      <td>1</td>\n",
       "      <td>Cumings, Mrs. John Bradley (Florence Briggs Th...</td>\n",
       "      <td>female</td>\n",
       "      <td>38.0</td>\n",
       "      <td>1</td>\n",
       "      <td>0</td>\n",
       "      <td>PC 17599</td>\n",
       "      <td>71.2833</td>\n",
       "      <td>C85</td>\n",
       "      <td>C</td>\n",
       "    </tr>\n",
       "    <tr>\n",
       "      <th>2</th>\n",
       "      <td>3</td>\n",
       "      <td>1</td>\n",
       "      <td>3</td>\n",
       "      <td>Heikkinen, Miss. Laina</td>\n",
       "      <td>female</td>\n",
       "      <td>26.0</td>\n",
       "      <td>0</td>\n",
       "      <td>0</td>\n",
       "      <td>STON/O2. 3101282</td>\n",
       "      <td>7.9250</td>\n",
       "      <td>NaN</td>\n",
       "      <td>S</td>\n",
       "    </tr>\n",
       "    <tr>\n",
       "      <th>3</th>\n",
       "      <td>4</td>\n",
       "      <td>1</td>\n",
       "      <td>1</td>\n",
       "      <td>Futrelle, Mrs. Jacques Heath (Lily May Peel)</td>\n",
       "      <td>female</td>\n",
       "      <td>35.0</td>\n",
       "      <td>1</td>\n",
       "      <td>0</td>\n",
       "      <td>113803</td>\n",
       "      <td>53.1000</td>\n",
       "      <td>C123</td>\n",
       "      <td>S</td>\n",
       "    </tr>\n",
       "    <tr>\n",
       "      <th>4</th>\n",
       "      <td>5</td>\n",
       "      <td>0</td>\n",
       "      <td>3</td>\n",
       "      <td>Allen, Mr. William Henry</td>\n",
       "      <td>male</td>\n",
       "      <td>35.0</td>\n",
       "      <td>0</td>\n",
       "      <td>0</td>\n",
       "      <td>373450</td>\n",
       "      <td>8.0500</td>\n",
       "      <td>NaN</td>\n",
       "      <td>S</td>\n",
       "    </tr>\n",
       "  </tbody>\n",
       "</table>\n",
       "</div>"
      ],
      "text/plain": [
       "   PassengerId  Survived  Pclass  \\\n",
       "0            1         0       3   \n",
       "1            2         1       1   \n",
       "2            3         1       3   \n",
       "3            4         1       1   \n",
       "4            5         0       3   \n",
       "\n",
       "                                                Name     Sex   Age  SibSp  \\\n",
       "0                            Braund, Mr. Owen Harris    male  22.0      1   \n",
       "1  Cumings, Mrs. John Bradley (Florence Briggs Th...  female  38.0      1   \n",
       "2                             Heikkinen, Miss. Laina  female  26.0      0   \n",
       "3       Futrelle, Mrs. Jacques Heath (Lily May Peel)  female  35.0      1   \n",
       "4                           Allen, Mr. William Henry    male  35.0      0   \n",
       "\n",
       "   Parch            Ticket     Fare Cabin Embarked  \n",
       "0      0         A/5 21171   7.2500   NaN        S  \n",
       "1      0          PC 17599  71.2833   C85        C  \n",
       "2      0  STON/O2. 3101282   7.9250   NaN        S  \n",
       "3      0            113803  53.1000  C123        S  \n",
       "4      0            373450   8.0500   NaN        S  "
      ]
     },
     "execution_count": 1,
     "metadata": {},
     "output_type": "execute_result"
    }
   ],
   "source": [
    "import numpy as np\n",
    "import pandas as pd\n",
    "\n",
    "DF = pd.read_csv('train.csv')\n",
    "DF.head()"
   ]
  },
  {
   "cell_type": "code",
   "execution_count": 24,
   "metadata": {},
   "outputs": [
    {
     "name": "stdout",
     "output_type": "stream",
     "text": [
      "<class 'pandas.core.frame.DataFrame'>\n",
      "RangeIndex: 891 entries, 0 to 890\n",
      "Data columns (total 12 columns):\n",
      "PassengerId    891 non-null int64\n",
      "Survived       891 non-null int64\n",
      "Pclass         891 non-null int64\n",
      "Name           891 non-null object\n",
      "Sex            891 non-null object\n",
      "Age            714 non-null float64\n",
      "SibSp          891 non-null int64\n",
      "Parch          891 non-null int64\n",
      "Ticket         891 non-null object\n",
      "Fare           891 non-null float64\n",
      "Cabin          204 non-null object\n",
      "Embarked       889 non-null object\n",
      "dtypes: float64(2), int64(5), object(5)\n",
      "memory usage: 83.6+ KB\n"
     ]
    }
   ],
   "source": [
    "DF.info()"
   ]
  },
  {
   "cell_type": "markdown",
   "metadata": {},
   "source": [
    "### 02. 資料前處理"
   ]
  },
  {
   "cell_type": "markdown",
   "metadata": {},
   "source": [
    "#### 選取feature & label"
   ]
  },
  {
   "cell_type": "code",
   "execution_count": 2,
   "metadata": {},
   "outputs": [],
   "source": [
    "train_feature = DF.drop(['Name', 'Sex', 'Ticket', 'PassengerId','Survived','Cabin'], axis=1)\n",
    "train_labels = DF['Survived'].copy()"
   ]
  },
  {
   "cell_type": "markdown",
   "metadata": {},
   "source": [
    "#### 處理空值、異常值 \n",
    "檢查空值"
   ]
  },
  {
   "cell_type": "code",
   "execution_count": 23,
   "metadata": {},
   "outputs": [
    {
     "data": {
      "text/plain": [
       "Pclass      0\n",
       "Age       177\n",
       "SibSp       0\n",
       "Parch       0\n",
       "Fare        0\n",
       "dtype: int64"
      ]
     },
     "execution_count": 23,
     "metadata": {},
     "output_type": "execute_result"
    }
   ],
   "source": [
    "train_feature.isnull().sum()"
   ]
  },
  {
   "cell_type": "markdown",
   "metadata": {},
   "source": [
    "### 03. One Hot Encoding\n",
    "將Embarked mapping成數值"
   ]
  },
  {
   "cell_type": "code",
   "execution_count": null,
   "metadata": {},
   "outputs": [],
   "source": []
  },
  {
   "cell_type": "code",
   "execution_count": 4,
   "metadata": {},
   "outputs": [],
   "source": [
    "train_feature = train_feature.drop(['Embarked'], axis=1)"
   ]
  },
  {
   "cell_type": "markdown",
   "metadata": {},
   "source": [
    "### 1. PLA演算法"
   ]
  },
  {
   "cell_type": "markdown",
   "metadata": {},
   "source": [
    "參數設定"
   ]
  },
  {
   "cell_type": "code",
   "execution_count": 17,
   "metadata": {},
   "outputs": [
    {
     "name": "stdout",
     "output_type": "stream",
     "text": [
      "[0. 0. 0. 0. 0.]\n"
     ]
    }
   ],
   "source": [
    "weights = np.zeros(len(train_feature.columns))\n",
    "print(weights)\n",
    "\n",
    "# weights.fill(0)\n",
    "\n",
    "learningRate = 0.01\n",
    "\n",
    "Iterations = 10\n",
    "# 紀錄error變化\n",
    "errors = []"
   ]
  },
  {
   "cell_type": "markdown",
   "metadata": {},
   "source": [
    "激勵函數"
   ]
  },
  {
   "cell_type": "code",
   "execution_count": null,
   "metadata": {},
   "outputs": [],
   "source": [
    "def sign(z):\n",
    "    if z > 0:\n",
    "        return 1\n",
    "    else:\n",
    "        return -1"
   ]
  },
  {
   "cell_type": "markdown",
   "metadata": {},
   "source": [
    "簡單版"
   ]
  },
  {
   "cell_type": "code",
   "execution_count": 18,
   "metadata": {},
   "outputs": [],
   "source": [
    "def pla_simple(data, labels, iterations):\n",
    "    for numIter in range(Iterations):\n",
    "        print(\"iteration {}\".format(numIter))\n",
    "        err = 0  # reset the error counter\n",
    "        # For each handwritten digit in training set,\n",
    "        for ix in range(len(data.index)):\n",
    "            # select a row as input vector \n",
    "            inputVector = data.iloc[ix]\n",
    "            # uses global variable in the function\n",
    "            global weights\n",
    "            # take the dot product of input and weight\n",
    "            dotproduct = np.dot(inputVector, weights)\n",
    "            # 經過激勵函數\n",
    "            estimatedLabel = np.sign(dotproduct)\n",
    "            \n",
    "            # 如果sign回傳是0, 看作小於0\n",
    "            if estimatedLabel == 0:\n",
    "                estimatedLabel = -1\n",
    "            actualLabel = labels[ix];\n",
    "            # 比較預測的label與答案\n",
    "            if actualLabel != estimatedLabel:\n",
    "                weights = weights + actualLabel*learningRate*inputVector\n",
    "                err+=1\n",
    "\n",
    "        errors.append( (err*1.0) / len(data) )  "
   ]
  },
  {
   "cell_type": "code",
   "execution_count": 19,
   "metadata": {},
   "outputs": [
    {
     "name": "stdout",
     "output_type": "stream",
     "text": [
      "iteration 0\n",
      "iteration 1\n",
      "iteration 2\n",
      "iteration 3\n",
      "iteration 4\n",
      "iteration 5\n",
      "iteration 6\n",
      "iteration 7\n",
      "iteration 8\n",
      "iteration 9\n"
     ]
    },
    {
     "data": {
      "text/plain": [
       "[0.9977553310886644, 1.0, 1.0, 1.0, 1.0, 1.0, 1.0, 1.0, 1.0, 1.0]"
      ]
     },
     "execution_count": 19,
     "metadata": {},
     "output_type": "execute_result"
    }
   ],
   "source": [
    "pla_simple(train_feature, train_labels, Iterations)\n",
    "errors"
   ]
  },
  {
   "cell_type": "markdown",
   "metadata": {},
   "source": [
    "訓練後的權重"
   ]
  },
  {
   "cell_type": "code",
   "execution_count": 22,
   "metadata": {},
   "outputs": [
    {
     "data": {
      "text/plain": [
       "Pclass      66.66000\n",
       "Age              NaN\n",
       "SibSp       16.19000\n",
       "Parch       15.90000\n",
       "Fare      1654.51269\n",
       "dtype: float64"
      ]
     },
     "execution_count": 22,
     "metadata": {},
     "output_type": "execute_result"
    }
   ],
   "source": [
    "weights"
   ]
  },
  {
   "cell_type": "markdown",
   "metadata": {},
   "source": [
    "到特定iteration停下"
   ]
  },
  {
   "cell_type": "code",
   "execution_count": null,
   "metadata": {},
   "outputs": [],
   "source": [
    "def pla(data):\n",
    "    w = np.array([0.,0.,0.])\n",
    "    error = 1\n",
    "    iterator = 0\n",
    "    while error != 0:\n",
    "        error = 0\n",
    "        for i in range(len(data)):\n",
    "            x, y = np.concatenate((np.array([1.]), np.array(data.iloc[i])[:2])), np.array(data.iloc[i])[2]\n",
    "            if sign(np.dot(w,x)) != y:\n",
    "                print(\"iterator: \"+str(iterator))\n",
    "                iterator += 1\n",
    "                error += 1\n",
    "                \n",
    "\n",
    "                # 前一個 Decision boundary 的法向量\n",
    "                if w[1] != 0:\n",
    "                    x_last_decision_boundary = np.linspace(0,w[1])\n",
    "                    y_last_decision_boundary = (w[2]/w[1])*x_last_decision_boundary\n",
    "                    \n",
    "                w += y*x            \n",
    "                print(\"x: \" + str(x))            \n",
    "                print(\"w: \" + str(w))\n",
    "                # x向量 \n",
    "                x_vector = np.linspace(0,x[1])\n",
    "                y_vector = (x[2]/x[1])*x_vector\n",
    "                \n",
    "                # Decision boundary 的方向向量\n",
    "                x_decision_boundary = np.linspace(-0.5,7)\n",
    "                y_decision_boundary = (-w[1]/w[2])*x_decision_boundary - (w[0]/w[2])\n",
    "                \n",
    "                # Decision boundary 的法向量\n",
    "                x_decision_boundary_normal_vector = np.linspace(0,w[1])\n",
    "                y_decision_boundary_normal_vector = (w[2]/w[1])*x_decision_boundary_normal_vector"
   ]
  },
  {
   "cell_type": "code",
   "execution_count": null,
   "metadata": {},
   "outputs": [],
   "source": [
    "pla(train_feature)"
   ]
  },
  {
   "cell_type": "markdown",
   "metadata": {},
   "source": [
    "替代方案"
   ]
  },
  {
   "cell_type": "code",
   "execution_count": null,
   "metadata": {},
   "outputs": [],
   "source": [
    "def naive_pla(datas):\n",
    "    # 初始化權重,全給0\n",
    "    w = datas[0][0]\n",
    "    iteration = 0\n",
    "    while True:\n",
    "        iteration += 1\n",
    "        false_data = 0\n",
    "\n",
    "        for data in datas:\n",
    "            # input與權重做內積\n",
    "            t = dot(w, data[0])\n",
    "            if sign(data[1]) != sign(t):\n",
    "                error = data[1]\n",
    "                false_data += 1\n",
    "                w += error * data[0]\n",
    "        print 'iter%d (%d / %d)' % (iteration, false_data, len(datas))\n",
    "        if not false_data:\n",
    "            break\n",
    "    return w"
   ]
  },
  {
   "cell_type": "code",
   "execution_count": null,
   "metadata": {},
   "outputs": [],
   "source": [
    "naive_pla()"
   ]
  },
  {
   "cell_type": "markdown",
   "metadata": {},
   "source": [
    "### 2. PLA Pocket演算法"
   ]
  },
  {
   "cell_type": "code",
   "execution_count": null,
   "metadata": {},
   "outputs": [],
   "source": [
    "def pocket_pla(datas, limit):\n",
    "    \n",
    "    \n",
    "    def _calc_false(vec):\n",
    "        res = 0\n",
    "        for data in datas:\n",
    "            t = np.dot(vec, data[0])\n",
    "            if np.sign(data[1]) != np.sign(t):\n",
    "                res += 1\n",
    "        return res\n",
    "    \n",
    "    \n",
    "    w = np.random.rand(5)\n",
    "    least_false = _calc_false(w)\n",
    "    res = w\n",
    "\n",
    "    for i in xrange(limit):\n",
    "        data = random.choice(datas)\n",
    "        t = np.dot(w, data[0])\n",
    "        if np.sign(data[1]) != np.sign(t):\n",
    "            t = w + data[1] * data[0]\n",
    "            t_false = _calc_false(t)\n",
    "\n",
    "            w = t\n",
    "\n",
    "            if t_false <= least_false:\n",
    "                least_false = t_false\n",
    "                res = t\n",
    "    return res, least_false"
   ]
  },
  {
   "cell_type": "code",
   "execution_count": null,
   "metadata": {},
   "outputs": [],
   "source": [
    "pocket_pla()"
   ]
  }
 ],
 "metadata": {
  "kernelspec": {
   "display_name": "Python 3",
   "language": "python",
   "name": "python3"
  },
  "language_info": {
   "codemirror_mode": {
    "name": "ipython",
    "version": 3
   },
   "file_extension": ".py",
   "mimetype": "text/x-python",
   "name": "python",
   "nbconvert_exporter": "python",
   "pygments_lexer": "ipython3",
   "version": "3.5.5"
  }
 },
 "nbformat": 4,
 "nbformat_minor": 2
}
