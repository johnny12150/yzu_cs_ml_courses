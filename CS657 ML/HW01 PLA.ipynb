{
 "cells": [
  {
   "cell_type": "markdown",
   "metadata": {},
   "source": [
    "# HW01 PLA\n",
    "> 1041621 蘇建文\n",
    "\n",
    "## The roadmap of code\n",
    "![](https://raw.githubusercontent.com/johnny12150/DSS_P2P/f3eabbf965fea515e87094703e00d9c34b3bac6b/notebook/img/Slide10.jpg)"
   ]
  },
  {
   "cell_type": "markdown",
   "metadata": {},
   "source": [
    "### 01. Dataset\n",
    "> 資料來源: https://www.kaggle.com/c/titanic/data\n",
    "\n",
    "檢視資料"
   ]
  },
  {
   "cell_type": "code",
   "execution_count": 1,
   "metadata": {},
   "outputs": [
    {
     "data": {
      "text/html": [
       "<div>\n",
       "<style scoped>\n",
       "    .dataframe tbody tr th:only-of-type {\n",
       "        vertical-align: middle;\n",
       "    }\n",
       "\n",
       "    .dataframe tbody tr th {\n",
       "        vertical-align: top;\n",
       "    }\n",
       "\n",
       "    .dataframe thead th {\n",
       "        text-align: right;\n",
       "    }\n",
       "</style>\n",
       "<table border=\"1\" class=\"dataframe\">\n",
       "  <thead>\n",
       "    <tr style=\"text-align: right;\">\n",
       "      <th></th>\n",
       "      <th>PassengerId</th>\n",
       "      <th>Survived</th>\n",
       "      <th>Pclass</th>\n",
       "      <th>Name</th>\n",
       "      <th>Sex</th>\n",
       "      <th>Age</th>\n",
       "      <th>SibSp</th>\n",
       "      <th>Parch</th>\n",
       "      <th>Ticket</th>\n",
       "      <th>Fare</th>\n",
       "      <th>Cabin</th>\n",
       "      <th>Embarked</th>\n",
       "    </tr>\n",
       "  </thead>\n",
       "  <tbody>\n",
       "    <tr>\n",
       "      <th>0</th>\n",
       "      <td>1</td>\n",
       "      <td>0</td>\n",
       "      <td>3</td>\n",
       "      <td>Braund, Mr. Owen Harris</td>\n",
       "      <td>male</td>\n",
       "      <td>22.0</td>\n",
       "      <td>1</td>\n",
       "      <td>0</td>\n",
       "      <td>A/5 21171</td>\n",
       "      <td>7.2500</td>\n",
       "      <td>NaN</td>\n",
       "      <td>S</td>\n",
       "    </tr>\n",
       "    <tr>\n",
       "      <th>1</th>\n",
       "      <td>2</td>\n",
       "      <td>1</td>\n",
       "      <td>1</td>\n",
       "      <td>Cumings, Mrs. John Bradley (Florence Briggs Th...</td>\n",
       "      <td>female</td>\n",
       "      <td>38.0</td>\n",
       "      <td>1</td>\n",
       "      <td>0</td>\n",
       "      <td>PC 17599</td>\n",
       "      <td>71.2833</td>\n",
       "      <td>C85</td>\n",
       "      <td>C</td>\n",
       "    </tr>\n",
       "    <tr>\n",
       "      <th>2</th>\n",
       "      <td>3</td>\n",
       "      <td>1</td>\n",
       "      <td>3</td>\n",
       "      <td>Heikkinen, Miss. Laina</td>\n",
       "      <td>female</td>\n",
       "      <td>26.0</td>\n",
       "      <td>0</td>\n",
       "      <td>0</td>\n",
       "      <td>STON/O2. 3101282</td>\n",
       "      <td>7.9250</td>\n",
       "      <td>NaN</td>\n",
       "      <td>S</td>\n",
       "    </tr>\n",
       "    <tr>\n",
       "      <th>3</th>\n",
       "      <td>4</td>\n",
       "      <td>1</td>\n",
       "      <td>1</td>\n",
       "      <td>Futrelle, Mrs. Jacques Heath (Lily May Peel)</td>\n",
       "      <td>female</td>\n",
       "      <td>35.0</td>\n",
       "      <td>1</td>\n",
       "      <td>0</td>\n",
       "      <td>113803</td>\n",
       "      <td>53.1000</td>\n",
       "      <td>C123</td>\n",
       "      <td>S</td>\n",
       "    </tr>\n",
       "    <tr>\n",
       "      <th>4</th>\n",
       "      <td>5</td>\n",
       "      <td>0</td>\n",
       "      <td>3</td>\n",
       "      <td>Allen, Mr. William Henry</td>\n",
       "      <td>male</td>\n",
       "      <td>35.0</td>\n",
       "      <td>0</td>\n",
       "      <td>0</td>\n",
       "      <td>373450</td>\n",
       "      <td>8.0500</td>\n",
       "      <td>NaN</td>\n",
       "      <td>S</td>\n",
       "    </tr>\n",
       "  </tbody>\n",
       "</table>\n",
       "</div>"
      ],
      "text/plain": [
       "   PassengerId  Survived  Pclass  \\\n",
       "0            1         0       3   \n",
       "1            2         1       1   \n",
       "2            3         1       3   \n",
       "3            4         1       1   \n",
       "4            5         0       3   \n",
       "\n",
       "                                                Name     Sex   Age  SibSp  \\\n",
       "0                            Braund, Mr. Owen Harris    male  22.0      1   \n",
       "1  Cumings, Mrs. John Bradley (Florence Briggs Th...  female  38.0      1   \n",
       "2                             Heikkinen, Miss. Laina  female  26.0      0   \n",
       "3       Futrelle, Mrs. Jacques Heath (Lily May Peel)  female  35.0      1   \n",
       "4                           Allen, Mr. William Henry    male  35.0      0   \n",
       "\n",
       "   Parch            Ticket     Fare Cabin Embarked  \n",
       "0      0         A/5 21171   7.2500   NaN        S  \n",
       "1      0          PC 17599  71.2833   C85        C  \n",
       "2      0  STON/O2. 3101282   7.9250   NaN        S  \n",
       "3      0            113803  53.1000  C123        S  \n",
       "4      0            373450   8.0500   NaN        S  "
      ]
     },
     "execution_count": 1,
     "metadata": {},
     "output_type": "execute_result"
    }
   ],
   "source": [
    "import numpy as np\n",
    "import pandas as pd\n",
    "\n",
    "DF = pd.read_csv('train.csv')\n",
    "DF.head()"
   ]
  },
  {
   "cell_type": "markdown",
   "metadata": {},
   "source": [
    "### 02. 資料前處理"
   ]
  },
  {
   "cell_type": "markdown",
   "metadata": {},
   "source": [
    "#### 選取feature & label"
   ]
  },
  {
   "cell_type": "code",
   "execution_count": 56,
   "metadata": {},
   "outputs": [],
   "source": [
    "# train_feature = DF.drop(['Name', 'Ticket', 'PassengerId','Survived','Cabin'], axis=1)\n",
    "train_feature = DF[['Age', 'Sex', 'Embarked', 'SibSp', 'Parch', 'Pclass']].copy()\n",
    "train_labels = DF['Survived'].copy()"
   ]
  },
  {
   "cell_type": "markdown",
   "metadata": {},
   "source": [
    "#### 處理空值、異常值 \n",
    "檢查空值"
   ]
  },
  {
   "cell_type": "code",
   "execution_count": 4,
   "metadata": {
    "collapsed": true,
    "jupyter": {
     "outputs_hidden": true
    }
   },
   "outputs": [
    {
     "data": {
      "text/plain": [
       "Pclass        0\n",
       "Sex           0\n",
       "Age         177\n",
       "SibSp         0\n",
       "Parch         0\n",
       "Fare          0\n",
       "Embarked      2\n",
       "dtype: int64"
      ]
     },
     "execution_count": 4,
     "metadata": {},
     "output_type": "execute_result"
    }
   ],
   "source": [
    "train_feature.isnull().sum()"
   ]
  },
  {
   "cell_type": "markdown",
   "metadata": {},
   "source": [
    "將年紀的空值用平均值補"
   ]
  },
  {
   "cell_type": "code",
   "execution_count": 57,
   "metadata": {},
   "outputs": [],
   "source": [
    "median_age = train_feature['Age'].dropna().median()\n",
    "# 取出Age是Nan的row後，將該row的Age以平均數取代之\n",
    "train_feature.loc[ (train_feature['Age'].isnull()), 'Age'] = median_age"
   ]
  },
  {
   "cell_type": "markdown",
   "metadata": {},
   "source": [
    "用眾數補embarked"
   ]
  },
  {
   "cell_type": "code",
   "execution_count": 58,
   "metadata": {},
   "outputs": [],
   "source": [
    "train_feature['Embarked'] = train_feature['Embarked'].fillna(train_feature['Embarked'].mode()[0])"
   ]
  },
  {
   "cell_type": "markdown",
   "metadata": {},
   "source": [
    "#### 製作新feature\n",
    "判斷Name裡的稱謂"
   ]
  },
  {
   "cell_type": "code",
   "execution_count": 5,
   "metadata": {},
   "outputs": [],
   "source": [
    "DF['Title'] = DF['Name'].map(lambda name:name.split(',')[1].split('.')[0].strip())"
   ]
  },
  {
   "cell_type": "markdown",
   "metadata": {},
   "source": [
    "減少稱謂的類別"
   ]
  },
  {
   "cell_type": "code",
   "execution_count": 6,
   "metadata": {},
   "outputs": [],
   "source": [
    "title_dict = {\n",
    "                \"Mr\" :        \"Mr\",\n",
    "                \"Miss\" :      \"Miss\",\n",
    "                \"Mrs\" :       \"Mrs\",\n",
    "                \"Master\" :    \"Master\",\n",
    "                \"Dr\":         \"Scholar\",\n",
    "                \"Rev\":        \"Religious\",\n",
    "                \"Col\":        \"Officer\",\n",
    "                \"Major\":      \"Officer\",\n",
    "                \"Mlle\":       \"Miss\",\n",
    "                \"Don\":        \"Noble\",\n",
    "                \"Dona\":        \"Noble\",\n",
    "                \"the Countess\":\"Noble\",\n",
    "                \"Ms\":         \"Mrs\",\n",
    "                \"Mme\":        \"Mrs\",\n",
    "                \"Capt\":       \"Noble\",\n",
    "                \"Lady\" :      \"Noble\",\n",
    "                \"Sir\" :       \"Noble\",\n",
    "                \"Jonkheer\":   \"Noble\"\n",
    "            }\n",
    "\n",
    "DF['TitleGroup'] = DF['Title'].map(title_dict)"
   ]
  },
  {
   "cell_type": "markdown",
   "metadata": {},
   "source": [
    "### 03. One Hot Encoding\n",
    "將Embarked mapping成數值"
   ]
  },
  {
   "cell_type": "code",
   "execution_count": 59,
   "metadata": {},
   "outputs": [],
   "source": [
    "train_feature['Embarked'] = train_feature['Embarked'].map({'C': 0, 'Q': 1, 'S':2}).astype(int)\n",
    "# 再做ohe\n",
    "# train_feature = pd.concat([train_feature, pd.get_dummies(train_feature['Embarked'])], axis=1)"
   ]
  },
  {
   "cell_type": "markdown",
   "metadata": {},
   "source": [
    "pclass做one hot"
   ]
  },
  {
   "cell_type": "code",
   "execution_count": 31,
   "metadata": {},
   "outputs": [],
   "source": [
    "train_feature = pd.concat([train_feature, pd.get_dummies(train_feature['Pclass'], prefix='pclass')], axis=1)"
   ]
  },
  {
   "cell_type": "markdown",
   "metadata": {},
   "source": [
    "將TitleGroup mapping成數值"
   ]
  },
  {
   "cell_type": "code",
   "execution_count": 60,
   "metadata": {},
   "outputs": [
    {
     "data": {
      "text/html": [
       "<div>\n",
       "<style scoped>\n",
       "    .dataframe tbody tr th:only-of-type {\n",
       "        vertical-align: middle;\n",
       "    }\n",
       "\n",
       "    .dataframe tbody tr th {\n",
       "        vertical-align: top;\n",
       "    }\n",
       "\n",
       "    .dataframe thead th {\n",
       "        text-align: right;\n",
       "    }\n",
       "</style>\n",
       "<table border=\"1\" class=\"dataframe\">\n",
       "  <thead>\n",
       "    <tr style=\"text-align: right;\">\n",
       "      <th></th>\n",
       "      <th>Age</th>\n",
       "      <th>Sex</th>\n",
       "      <th>Embarked</th>\n",
       "      <th>SibSp</th>\n",
       "      <th>Parch</th>\n",
       "      <th>Pclass</th>\n",
       "      <th>TitleGroup</th>\n",
       "    </tr>\n",
       "  </thead>\n",
       "  <tbody>\n",
       "    <tr>\n",
       "      <th>0</th>\n",
       "      <td>22.0</td>\n",
       "      <td>male</td>\n",
       "      <td>2</td>\n",
       "      <td>1</td>\n",
       "      <td>0</td>\n",
       "      <td>3</td>\n",
       "      <td>2</td>\n",
       "    </tr>\n",
       "    <tr>\n",
       "      <th>1</th>\n",
       "      <td>38.0</td>\n",
       "      <td>female</td>\n",
       "      <td>0</td>\n",
       "      <td>1</td>\n",
       "      <td>0</td>\n",
       "      <td>1</td>\n",
       "      <td>3</td>\n",
       "    </tr>\n",
       "    <tr>\n",
       "      <th>2</th>\n",
       "      <td>26.0</td>\n",
       "      <td>female</td>\n",
       "      <td>2</td>\n",
       "      <td>0</td>\n",
       "      <td>0</td>\n",
       "      <td>3</td>\n",
       "      <td>1</td>\n",
       "    </tr>\n",
       "    <tr>\n",
       "      <th>3</th>\n",
       "      <td>35.0</td>\n",
       "      <td>female</td>\n",
       "      <td>2</td>\n",
       "      <td>1</td>\n",
       "      <td>0</td>\n",
       "      <td>1</td>\n",
       "      <td>3</td>\n",
       "    </tr>\n",
       "    <tr>\n",
       "      <th>4</th>\n",
       "      <td>35.0</td>\n",
       "      <td>male</td>\n",
       "      <td>2</td>\n",
       "      <td>0</td>\n",
       "      <td>0</td>\n",
       "      <td>3</td>\n",
       "      <td>2</td>\n",
       "    </tr>\n",
       "  </tbody>\n",
       "</table>\n",
       "</div>"
      ],
      "text/plain": [
       "    Age     Sex  Embarked  SibSp  Parch  Pclass  TitleGroup\n",
       "0  22.0    male         2      1      0       3           2\n",
       "1  38.0  female         0      1      0       1           3\n",
       "2  26.0  female         2      0      0       3           1\n",
       "3  35.0  female         2      1      0       1           3\n",
       "4  35.0    male         2      0      0       3           2"
      ]
     },
     "execution_count": 60,
     "metadata": {},
     "output_type": "execute_result"
    }
   ],
   "source": [
    "from sklearn import preprocessing\n",
    "le = preprocessing.LabelEncoder()\n",
    "train_feature['TitleGroup'] = le.fit_transform(DF['TitleGroup'])\n",
    "train_feature.head()"
   ]
  },
  {
   "cell_type": "markdown",
   "metadata": {},
   "source": [
    "將TitleGroup 做one hot"
   ]
  },
  {
   "cell_type": "code",
   "execution_count": 114,
   "metadata": {},
   "outputs": [],
   "source": [
    "train_feature = pd.concat([train_feature, pd.get_dummies(DF['TitleGroup'])], axis=1)"
   ]
  },
  {
   "cell_type": "markdown",
   "metadata": {},
   "source": [
    "將sex mapping成數值"
   ]
  },
  {
   "cell_type": "code",
   "execution_count": 61,
   "metadata": {},
   "outputs": [],
   "source": [
    "train_feature['Sex'] = train_feature['Sex'].map({'male': 0, 'female': 1}).astype(int)"
   ]
  },
  {
   "cell_type": "markdown",
   "metadata": {},
   "source": [
    "### 04. Scaler\n",
    "將數值的feature做正規化"
   ]
  },
  {
   "cell_type": "code",
   "execution_count": 50,
   "metadata": {},
   "outputs": [
    {
     "data": {
      "text/html": [
       "<div>\n",
       "<style scoped>\n",
       "    .dataframe tbody tr th:only-of-type {\n",
       "        vertical-align: middle;\n",
       "    }\n",
       "\n",
       "    .dataframe tbody tr th {\n",
       "        vertical-align: top;\n",
       "    }\n",
       "\n",
       "    .dataframe thead th {\n",
       "        text-align: right;\n",
       "    }\n",
       "</style>\n",
       "<table border=\"1\" class=\"dataframe\">\n",
       "  <thead>\n",
       "    <tr style=\"text-align: right;\">\n",
       "      <th></th>\n",
       "      <th>Age</th>\n",
       "      <th>Sex</th>\n",
       "      <th>Embarked</th>\n",
       "      <th>SibSp</th>\n",
       "      <th>Parch</th>\n",
       "      <th>Fare</th>\n",
       "      <th>TitleGroup</th>\n",
       "    </tr>\n",
       "  </thead>\n",
       "  <tbody>\n",
       "    <tr>\n",
       "      <th>0</th>\n",
       "      <td>22.0</td>\n",
       "      <td>0</td>\n",
       "      <td>2</td>\n",
       "      <td>1</td>\n",
       "      <td>0</td>\n",
       "      <td>-0.502445</td>\n",
       "      <td>2</td>\n",
       "    </tr>\n",
       "    <tr>\n",
       "      <th>1</th>\n",
       "      <td>38.0</td>\n",
       "      <td>1</td>\n",
       "      <td>0</td>\n",
       "      <td>1</td>\n",
       "      <td>0</td>\n",
       "      <td>0.786845</td>\n",
       "      <td>3</td>\n",
       "    </tr>\n",
       "    <tr>\n",
       "      <th>2</th>\n",
       "      <td>26.0</td>\n",
       "      <td>1</td>\n",
       "      <td>2</td>\n",
       "      <td>0</td>\n",
       "      <td>0</td>\n",
       "      <td>-0.488854</td>\n",
       "      <td>1</td>\n",
       "    </tr>\n",
       "    <tr>\n",
       "      <th>3</th>\n",
       "      <td>35.0</td>\n",
       "      <td>1</td>\n",
       "      <td>2</td>\n",
       "      <td>1</td>\n",
       "      <td>0</td>\n",
       "      <td>0.420730</td>\n",
       "      <td>3</td>\n",
       "    </tr>\n",
       "    <tr>\n",
       "      <th>4</th>\n",
       "      <td>35.0</td>\n",
       "      <td>0</td>\n",
       "      <td>2</td>\n",
       "      <td>0</td>\n",
       "      <td>0</td>\n",
       "      <td>-0.486337</td>\n",
       "      <td>2</td>\n",
       "    </tr>\n",
       "  </tbody>\n",
       "</table>\n",
       "</div>"
      ],
      "text/plain": [
       "    Age  Sex  Embarked  SibSp  Parch      Fare  TitleGroup\n",
       "0  22.0    0         2      1      0 -0.502445           2\n",
       "1  38.0    1         0      1      0  0.786845           3\n",
       "2  26.0    1         2      0      0 -0.488854           1\n",
       "3  35.0    1         2      1      0  0.420730           3\n",
       "4  35.0    0         2      0      0 -0.486337           2"
      ]
     },
     "execution_count": 50,
     "metadata": {},
     "output_type": "execute_result"
    }
   ],
   "source": [
    "from sklearn.preprocessing import StandardScaler\n",
    "scaler = StandardScaler()\n",
    "# train_feature[['Age', 'Parch', 'Fare']] = scaler.fit_transform(train_feature[['Age', 'Parch', 'Fare']])\n",
    "train_feature[['Fare']] = scaler.fit_transform(train_feature[['Fare']])\n",
    "train_feature.head()"
   ]
  },
  {
   "cell_type": "markdown",
   "metadata": {},
   "source": [
    "### 05. 演算法"
   ]
  },
  {
   "cell_type": "markdown",
   "metadata": {},
   "source": [
    "### 1. PLA演算法"
   ]
  },
  {
   "cell_type": "markdown",
   "metadata": {},
   "source": [
    "參數設定"
   ]
  },
  {
   "cell_type": "code",
   "execution_count": 62,
   "metadata": {},
   "outputs": [],
   "source": [
    "weights = np.zeros(len(train_feature.columns))\n",
    "\n",
    "learningRate = 0.01\n",
    "\n",
    "Iterations = 15\n",
    "# 紀錄error變化\n",
    "errors = []"
   ]
  },
  {
   "cell_type": "markdown",
   "metadata": {},
   "source": [
    "激勵函數"
   ]
  },
  {
   "cell_type": "code",
   "execution_count": null,
   "metadata": {},
   "outputs": [],
   "source": [
    "def sign(z):\n",
    "    if z > 0:\n",
    "        return 1\n",
    "    else:\n",
    "        return -1"
   ]
  },
  {
   "cell_type": "markdown",
   "metadata": {},
   "source": [
    "簡單版"
   ]
  },
  {
   "cell_type": "code",
   "execution_count": 11,
   "metadata": {},
   "outputs": [],
   "source": [
    "def pla_simple(data, labels, iterations):\n",
    "    for numIter in range(Iterations):\n",
    "        # print(\"iteration {}\".format(numIter))\n",
    "        err = 0  # reset the error counter\n",
    "        # For each handwritten digit in training set,\n",
    "        for ix in range(len(data.index)):\n",
    "            # select a row as input vector \n",
    "            inputVector = data.iloc[ix]\n",
    "            # uses global variable in the function\n",
    "            global weights\n",
    "            # take the dot product of input and weight\n",
    "            dotproduct = np.dot(inputVector, weights)\n",
    "            # 經過激勵函數\n",
    "            estimatedLabel = np.sign(dotproduct)\n",
    "            \n",
    "            # 如果sign回傳是0, 看作小於0\n",
    "            if estimatedLabel == 0:\n",
    "                estimatedLabel = -1\n",
    "                \n",
    "            actualLabel = labels[ix];\n",
    "            # PLA的二元分類, label需為1和-1, 故將原本是0的轉為-1\n",
    "            if actualLabel == 0:\n",
    "                actualLabel = -1\n",
    "                \n",
    "            # 比較預測的label與答案\n",
    "            if actualLabel != estimatedLabel:   \n",
    "                weights = weights + actualLabel*learningRate*inputVector\n",
    "                err+=1\n",
    "                \n",
    "        global errors\n",
    "        errors.append( (err*1.0) / len(data) )  "
   ]
  },
  {
   "cell_type": "code",
   "execution_count": 63,
   "metadata": {},
   "outputs": [
    {
     "data": {
      "text/plain": [
       "0.3108866442199775"
      ]
     },
     "execution_count": 63,
     "metadata": {},
     "output_type": "execute_result"
    }
   ],
   "source": [
    "pla_simple(train_feature, train_labels, Iterations)\n",
    "errors[14]"
   ]
  },
  {
   "cell_type": "markdown",
   "metadata": {},
   "source": [
    "訓練後的權重"
   ]
  },
  {
   "cell_type": "code",
   "execution_count": 42,
   "metadata": {
    "collapsed": true,
    "jupyter": {
     "outputs_hidden": true
    }
   },
   "outputs": [
    {
     "data": {
      "text/plain": [
       "Pclass      0.050000\n",
       "Age         1.900000\n",
       "SibSp       0.050000\n",
       "Parch       0.000000\n",
       "Fare        3.564165\n",
       "Embarked    0.000000\n",
       "dtype: float64"
      ]
     },
     "execution_count": 42,
     "metadata": {},
     "output_type": "execute_result"
    }
   ],
   "source": [
    "weights"
   ]
  },
  {
   "cell_type": "markdown",
   "metadata": {},
   "source": [
    "### with sgd"
   ]
  },
  {
   "cell_type": "code",
   "execution_count": 52,
   "metadata": {
    "collapsed": true,
    "jupyter": {
     "outputs_hidden": true,
     "source_hidden": true
    }
   },
   "outputs": [],
   "source": [
    "weights = np.zeros(len(train_feature.columns))\n",
    "\n",
    "learningRate = 0.1\n",
    "\n",
    "bias = 0\n",
    "\n",
    "Iterations = 20\n",
    "# 紀錄error變化\n",
    "errors = []"
   ]
  },
  {
   "cell_type": "code",
   "execution_count": 53,
   "metadata": {
    "jupyter": {
     "source_hidden": true
    }
   },
   "outputs": [],
   "source": [
    "def pla_sgd(data, labels, iterations):\n",
    "    for numIter in range(Iterations):\n",
    "        err = 0  # reset the error counter\n",
    "        # For each handwritten digit in training set,\n",
    "        for ix in range(len(data.index)):\n",
    "            # select a row as input vector \n",
    "            inputVector = data.iloc[ix]\n",
    "            # uses global variable in the function\n",
    "            global weights\n",
    "            # take the dot product of input and weight\n",
    "            dotproduct = np.dot(inputVector, weights)\n",
    "            # 經過激勵函數\n",
    "            estimatedLabel = np.sign(dotproduct)\n",
    "            \n",
    "            # 如果sign回傳是0, 看作小於0\n",
    "            if estimatedLabel == 0:\n",
    "                estimatedLabel = -1\n",
    "            actualLabel = labels[ix];\n",
    "            # 比較預測的label與答案\n",
    "            if actualLabel != estimatedLabel:\n",
    "                # SGD: expect - predict 計算 loss\n",
    "                weights = weights + (actualLabel - estimatedLabel)*inputVector*learningRate\n",
    "                # 訓練bias\n",
    "                global bias\n",
    "                bias = bias + (actualLabel - estimatedLabel)*learningRate\n",
    "                err+=1\n",
    "                \n",
    "        global errors\n",
    "        errors.append( (err*1.0) / len(data) )  "
   ]
  },
  {
   "cell_type": "code",
   "execution_count": 54,
   "metadata": {
    "collapsed": true,
    "jupyter": {
     "outputs_hidden": true
    }
   },
   "outputs": [
    {
     "data": {
      "text/plain": [
       "0.6947250280583613"
      ]
     },
     "execution_count": 54,
     "metadata": {},
     "output_type": "execute_result"
    }
   ],
   "source": [
    "pla_sgd(train_feature, train_labels, Iterations)\n",
    "errors[19]"
   ]
  },
  {
   "cell_type": "markdown",
   "metadata": {},
   "source": [
    "到特定iteration停下"
   ]
  },
  {
   "cell_type": "code",
   "execution_count": null,
   "metadata": {
    "collapsed": true,
    "jupyter": {
     "outputs_hidden": true,
     "source_hidden": true
    }
   },
   "outputs": [],
   "source": [
    "def pla(data):\n",
    "    w = np.array([0.,0.,0.])\n",
    "    error = 1\n",
    "    iterator = 0\n",
    "    while error != 0:\n",
    "        error = 0\n",
    "        for i in range(len(data)):\n",
    "            x, y = np.concatenate((np.array([1.]), np.array(data.iloc[i])[:2])), np.array(data.iloc[i])[2]\n",
    "            if sign(np.dot(w,x)) != y:\n",
    "                print(\"iterator: \"+str(iterator))\n",
    "                iterator += 1\n",
    "                error += 1\n",
    "                \n",
    "\n",
    "                # 前一個 Decision boundary 的法向量\n",
    "                if w[1] != 0:\n",
    "                    x_last_decision_boundary = np.linspace(0,w[1])\n",
    "                    y_last_decision_boundary = (w[2]/w[1])*x_last_decision_boundary\n",
    "                    \n",
    "                w += y*x            \n",
    "                print(\"x: \" + str(x))            \n",
    "                print(\"w: \" + str(w))\n",
    "                # x向量 \n",
    "                x_vector = np.linspace(0,x[1])\n",
    "                y_vector = (x[2]/x[1])*x_vector\n",
    "                \n",
    "                # Decision boundary 的方向向量\n",
    "                x_decision_boundary = np.linspace(-0.5,7)\n",
    "                y_decision_boundary = (-w[1]/w[2])*x_decision_boundary - (w[0]/w[2])\n",
    "                \n",
    "                # Decision boundary 的法向量\n",
    "                x_decision_boundary_normal_vector = np.linspace(0,w[1])\n",
    "                y_decision_boundary_normal_vector = (w[2]/w[1])*x_decision_boundary_normal_vector"
   ]
  },
  {
   "cell_type": "code",
   "execution_count": null,
   "metadata": {},
   "outputs": [],
   "source": [
    "pla(train_feature)"
   ]
  },
  {
   "cell_type": "markdown",
   "metadata": {},
   "source": [
    "替代方案"
   ]
  },
  {
   "cell_type": "code",
   "execution_count": null,
   "metadata": {},
   "outputs": [],
   "source": [
    "def naive_pla(datas):\n",
    "    # 初始化權重,全給0\n",
    "    w = datas[0][0]\n",
    "    iteration = 0\n",
    "    while True:\n",
    "        iteration += 1\n",
    "        false_data = 0\n",
    "\n",
    "        for data in datas:\n",
    "            # input與權重做內積\n",
    "            t = dot(w, data[0])\n",
    "            if sign(data[1]) != sign(t):\n",
    "                # error是實際上的label值\n",
    "                error = data[1]\n",
    "                false_data += 1\n",
    "                w += error * data[0]\n",
    "        print 'iter%d (%d / %d)' % (iteration, false_data, len(datas))\n",
    "        if not false_data:\n",
    "            break\n",
    "    return w"
   ]
  },
  {
   "cell_type": "code",
   "execution_count": null,
   "metadata": {},
   "outputs": [],
   "source": [
    "naive_pla()"
   ]
  },
  {
   "cell_type": "markdown",
   "metadata": {},
   "source": [
    "### 2. PLA Pocket演算法"
   ]
  },
  {
   "cell_type": "code",
   "execution_count": null,
   "metadata": {
    "jupyter": {
     "source_hidden": true
    }
   },
   "outputs": [],
   "source": [
    "def pocket_pla(datas, limit):\n",
    "    \n",
    "    \n",
    "    def _calc_false(vec):\n",
    "        res = 0\n",
    "        for data in datas:\n",
    "            t = np.dot(vec, data[0])\n",
    "            if np.sign(data[1]) != np.sign(t):\n",
    "                res += 1\n",
    "        return res\n",
    "    \n",
    "    \n",
    "    w = np.random.rand(5)\n",
    "    least_false = _calc_false(w)\n",
    "    res = w\n",
    "\n",
    "    for i in xrange(limit):\n",
    "        data = random.choice(datas)\n",
    "        t = np.dot(w, data[0])\n",
    "        if np.sign(data[1]) != np.sign(t):\n",
    "            t = w + data[1] * data[0]\n",
    "            t_false = _calc_false(t)\n",
    "\n",
    "            w = t\n",
    "\n",
    "            if t_false <= least_false:\n",
    "                least_false = t_false\n",
    "                res = t\n",
    "    return res, least_false"
   ]
  },
  {
   "cell_type": "code",
   "execution_count": null,
   "metadata": {},
   "outputs": [],
   "source": [
    "pocket_pla()"
   ]
  },
  {
   "cell_type": "markdown",
   "metadata": {},
   "source": [
    "## 預測"
   ]
  },
  {
   "cell_type": "code",
   "execution_count": 13,
   "metadata": {},
   "outputs": [],
   "source": [
    "def pla_predict(data):\n",
    "    predict = []\n",
    "    for ix in range(len(data.index)):\n",
    "        inputVector = data.iloc[ix]\n",
    "        global weights, bias\n",
    "        dotproduct = np.dot(inputVector, weights)  # take the dot product of input and weight\n",
    "        # bias 目前只會降低準確度\n",
    "        # dotproduct = dotproduct + bias\n",
    "        estimatedLabel = np.sign(dotproduct)\n",
    "        if estimatedLabel == -1:\n",
    "            estimatedLabel = 0\n",
    "        else:\n",
    "            estimatedLabel = 1\n",
    "        predict.append(estimatedLabel) \n",
    "        \n",
    "    return predict"
   ]
  },
  {
   "cell_type": "code",
   "execution_count": 64,
   "metadata": {},
   "outputs": [],
   "source": [
    "test = pd.read_csv('test.csv')\n",
    "\n",
    "# test_feature = test.drop(['Name', 'Ticket', 'PassengerId','Cabin'], axis=1)\n",
    "test_feature = test[['Age', 'Sex', 'Embarked', 'SibSp', 'Parch', 'Pclass']].copy()\n",
    "\n",
    "median_age = test_feature['Age'].dropna().median()\n",
    "test_feature.loc[ (test_feature['Age'].isnull()), 'Age'] = median_age\n",
    "\n",
    "test_feature['Embarked'] = test_feature['Embarked'].fillna(test_feature['Embarked'].mode()[0])\n",
    "test_feature['Embarked'] = test_feature['Embarked'].map({'C': 0, 'Q': 1, 'S':2}).astype(int)\n",
    "# test_feature = pd.concat([test_feature, pd.get_dummies(test_feature['Embarked'])], axis=1)\n",
    "test_feature['Sex'] = test_feature['Sex'].map({'male': 0, 'female': 1}).astype(int)\n",
    "# fare有空值\n",
    "# test_feature.loc[ (test_feature['Fare'].isnull()), 'Fare'] = test_feature['Fare'].dropna().median()\n",
    "\n",
    "\n",
    "# test_feature = pd.concat([test_feature, pd.get_dummies(test_feature['Pclass'])], axis=1)\n",
    "\n",
    "test['Title'] = test['Name'].map(lambda name:name.split(',')[1].split('.')[0].strip())\n",
    "test['TitleGroup'] = test['Title'].map(title_dict)\n",
    "test.loc[ (test['TitleGroup'].isnull()), 'TitleGroup'] = test['TitleGroup'].dropna().mode()\n",
    "\n",
    "test_feature['TitleGroup'] = le.transform(test['TitleGroup'])\n",
    "\n",
    "# test_feature = pd.concat([test_feature, pd.get_dummies(test['TitleGroup'])], axis=1)\n",
    "\n",
    "# test_feature.insert(loc=10, column='Noble', value=0)\n",
    "\n",
    "# test_feature[['Age', 'Parch', 'Fare']] = scaler.transform(test_feature[['Age', 'Parch', 'Fare']])\n",
    "# test_feature[['Fare']] = scaler.transform(test_feature[['Fare']])\n",
    "\n",
    "y_pred = pla_predict(test_feature)"
   ]
  },
  {
   "cell_type": "markdown",
   "metadata": {},
   "source": [
    "### 計算模型準確度"
   ]
  },
  {
   "cell_type": "code",
   "execution_count": 65,
   "metadata": {},
   "outputs": [
    {
     "data": {
      "text/plain": [
       "0.7727272727272727"
      ]
     },
     "execution_count": 65,
     "metadata": {},
     "output_type": "execute_result"
    }
   ],
   "source": [
    "from sklearn.metrics import accuracy_score\n",
    "answer = pd.read_csv('submission.csv')\n",
    "\n",
    "accuracy_score(answer['Survived'], y_pred)"
   ]
  },
  {
   "cell_type": "markdown",
   "metadata": {},
   "source": [
    "#### 輸出成csv"
   ]
  },
  {
   "cell_type": "code",
   "execution_count": 66,
   "metadata": {},
   "outputs": [
    {
     "data": {
      "text/html": [
       "<div>\n",
       "<style scoped>\n",
       "    .dataframe tbody tr th:only-of-type {\n",
       "        vertical-align: middle;\n",
       "    }\n",
       "\n",
       "    .dataframe tbody tr th {\n",
       "        vertical-align: top;\n",
       "    }\n",
       "\n",
       "    .dataframe thead th {\n",
       "        text-align: right;\n",
       "    }\n",
       "</style>\n",
       "<table border=\"1\" class=\"dataframe\">\n",
       "  <thead>\n",
       "    <tr style=\"text-align: right;\">\n",
       "      <th></th>\n",
       "      <th>PassengerId</th>\n",
       "      <th>Survived</th>\n",
       "    </tr>\n",
       "  </thead>\n",
       "  <tbody>\n",
       "    <tr>\n",
       "      <th>0</th>\n",
       "      <td>892</td>\n",
       "      <td>0</td>\n",
       "    </tr>\n",
       "    <tr>\n",
       "      <th>1</th>\n",
       "      <td>893</td>\n",
       "      <td>1</td>\n",
       "    </tr>\n",
       "    <tr>\n",
       "      <th>2</th>\n",
       "      <td>894</td>\n",
       "      <td>0</td>\n",
       "    </tr>\n",
       "    <tr>\n",
       "      <th>3</th>\n",
       "      <td>895</td>\n",
       "      <td>0</td>\n",
       "    </tr>\n",
       "    <tr>\n",
       "      <th>4</th>\n",
       "      <td>896</td>\n",
       "      <td>1</td>\n",
       "    </tr>\n",
       "  </tbody>\n",
       "</table>\n",
       "</div>"
      ],
      "text/plain": [
       "   PassengerId  Survived\n",
       "0          892         0\n",
       "1          893         1\n",
       "2          894         0\n",
       "3          895         0\n",
       "4          896         1"
      ]
     },
     "execution_count": 66,
     "metadata": {},
     "output_type": "execute_result"
    }
   ],
   "source": [
    "DF_PLA = pd.DataFrame(\n",
    "    {'PassengerId': answer['PassengerId'],\n",
    "     'Survived': y_pred\n",
    "    })\n",
    "\n",
    "DF_PLA.head()"
   ]
  },
  {
   "cell_type": "code",
   "execution_count": 67,
   "metadata": {},
   "outputs": [],
   "source": [
    "DF_PLA.to_csv('submit_PLA.csv', index=False)"
   ]
  },
  {
   "cell_type": "code",
   "execution_count": null,
   "metadata": {},
   "outputs": [],
   "source": []
  }
 ],
 "metadata": {
  "kernelspec": {
   "display_name": "Python 3",
   "language": "python",
   "name": "python3"
  },
  "language_info": {
   "codemirror_mode": {
    "name": "ipython",
    "version": 3
   },
   "file_extension": ".py",
   "mimetype": "text/x-python",
   "name": "python",
   "nbconvert_exporter": "python",
   "pygments_lexer": "ipython3",
   "version": "3.5.5"
  }
 },
 "nbformat": 4,
 "nbformat_minor": 2
}
